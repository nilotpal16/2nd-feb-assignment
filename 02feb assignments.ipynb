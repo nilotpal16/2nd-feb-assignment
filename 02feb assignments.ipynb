{
 "cells": [
  {
   "cell_type": "code",
   "execution_count": 1,
   "id": "fa8dd1e2-0263-4ac0-8cb2-677d836ebe79",
   "metadata": {},
   "outputs": [],
   "source": [
    "## explain with an example each when to use a for loop or while loop"
   ]
  },
  {
   "cell_type": "code",
   "execution_count": 2,
   "id": "9e2a7340-e3e5-4059-8a59-9a301241181c",
   "metadata": {},
   "outputs": [
    {
     "data": {
      "text/plain": [
       "'loop- loop is define as for the execute value in repeatedly after once condition is right'"
      ]
     },
     "execution_count": 2,
     "metadata": {},
     "output_type": "execute_result"
    }
   ],
   "source": [
    "\"\"\"loop- loop is define as for the execute value in repeatedly after once condition is right\"\"\""
   ]
  },
  {
   "cell_type": "code",
   "execution_count": 3,
   "id": "43a13a4f-41a9-4f19-bcb0-b7ce15962bfc",
   "metadata": {},
   "outputs": [],
   "source": [
    "l =[1,2,3,4]"
   ]
  },
  {
   "cell_type": "code",
   "execution_count": 4,
   "id": "4727eea1-0978-41bd-8c56-2db05e548d19",
   "metadata": {},
   "outputs": [
    {
     "name": "stdout",
     "output_type": "stream",
     "text": [
      "1\n",
      "2\n",
      "3\n",
      "4\n"
     ]
    }
   ],
   "source": [
    "for i in l:\n",
    "    print (i)"
   ]
  },
  {
   "cell_type": "code",
   "execution_count": 5,
   "id": "c529cfad-cdc1-47af-a63b-962641580325",
   "metadata": {},
   "outputs": [
    {
     "data": {
      "text/plain": [
       "' while loop- while loop is define as to check the condition first whether condition is right or wrong'"
      ]
     },
     "execution_count": 5,
     "metadata": {},
     "output_type": "execute_result"
    }
   ],
   "source": [
    "''' while loop- while loop is define as to check the condition first whether condition is right or wrong'''"
   ]
  },
  {
   "cell_type": "code",
   "execution_count": 7,
   "id": "7bbbe413-4d91-4089-8d1c-8babb55a9dc6",
   "metadata": {},
   "outputs": [
    {
     "name": "stdin",
     "output_type": "stream",
     "text": [
      "enter the no 25\n"
     ]
    },
    {
     "data": {
      "text/plain": [
       "325"
      ]
     },
     "execution_count": 7,
     "metadata": {},
     "output_type": "execute_result"
    }
   ],
   "source": [
    "a= int ( input('enter the no'))\n",
    "sp=0\n",
    "cp=1\n",
    "while cp<=a:\n",
    "    sp=sp+cp\n",
    "    cp=cp+1\n",
    "sp\n",
    "    "
   ]
  },
  {
   "cell_type": "code",
   "execution_count": 8,
   "id": "bb4a31b5-f932-4907-87bb-c0d28c19992e",
   "metadata": {},
   "outputs": [],
   "source": [
    "## write a programm to print the sum and product the first 10 natural number by using for and while loop"
   ]
  },
  {
   "cell_type": "code",
   "execution_count": 9,
   "id": "f21f2408-b8d5-40ce-90f8-44d14ac3fc34",
   "metadata": {},
   "outputs": [
    {
     "name": "stdin",
     "output_type": "stream",
     "text": [
      "enter the no 25\n"
     ]
    },
    {
     "data": {
      "text/plain": [
       "325"
      ]
     },
     "execution_count": 9,
     "metadata": {},
     "output_type": "execute_result"
    }
   ],
   "source": [
    "a= int ( input('enter the no'))\n",
    "sp=0\n",
    "cp=1\n",
    "while cp<=a:\n",
    "    sp=sp+cp\n",
    "    cp=cp+1\n",
    "sp\n",
    "   "
   ]
  },
  {
   "cell_type": "code",
   "execution_count": 1,
   "id": "bb4ce28f-1cc0-41dc-967c-667cdb3cfbdd",
   "metadata": {},
   "outputs": [
    {
     "name": "stdin",
     "output_type": "stream",
     "text": [
      "enter the no 25\n"
     ]
    },
    {
     "name": "stdout",
     "output_type": "stream",
     "text": [
      "25 * 1 = 25\n",
      "25 * 2 = 50\n",
      "25 * 3 = 75\n",
      "25 * 4 = 100\n",
      "25 * 5 = 125\n",
      "25 * 6 = 150\n",
      "25 * 7 = 175\n",
      "25 * 8 = 200\n",
      "25 * 9 = 225\n",
      "25 * 10 = 250\n"
     ]
    }
   ],
   "source": [
    "a = int (input('enter the no'))\n",
    "i=1\n",
    "while i<=10:\n",
    "    result=a*i\n",
    "    print(a,'*',i,'=',result)\n",
    "    i=i+1\n",
    "        \n",
    "    "
   ]
  },
  {
   "cell_type": "code",
   "execution_count": 2,
   "id": "2fe7c49f-c4b3-4196-8a23-d61f3d9f1127",
   "metadata": {},
   "outputs": [],
   "source": [
    "l=[1,2,3,4,5,6,7,8,9,10]"
   ]
  },
  {
   "cell_type": "code",
   "execution_count": 3,
   "id": "026764b5-fd69-4dbe-87b4-85d827144f3d",
   "metadata": {},
   "outputs": [
    {
     "data": {
      "text/plain": [
       "[1, 2, 3, 4, 5, 6, 7, 8, 9, 10]"
      ]
     },
     "execution_count": 3,
     "metadata": {},
     "output_type": "execute_result"
    }
   ],
   "source": [
    "l"
   ]
  },
  {
   "cell_type": "code",
   "execution_count": 9,
   "id": "33d52f7d-3e11-4274-b2e7-55200db9ac79",
   "metadata": {},
   "outputs": [
    {
     "data": {
      "text/plain": [
       "55"
      ]
     },
     "execution_count": 9,
     "metadata": {},
     "output_type": "execute_result"
    }
   ],
   "source": [
    "\n",
    "result=0\n",
    "for i in l:\n",
    "    result=result+i\n",
    "result"
   ]
  },
  {
   "cell_type": "code",
   "execution_count": 1,
   "id": "26c37868-6eda-4cb7-b6ff-d8e5c722818c",
   "metadata": {},
   "outputs": [
    {
     "name": "stdout",
     "output_type": "stream",
     "text": [
      "362880\n"
     ]
    }
   ],
   "source": [
    "product = 1\n",
    "for i in range (1,10):\n",
    "    product = product*i\n",
    "print(product)"
   ]
  },
  {
   "cell_type": "code",
   "execution_count": 4,
   "id": "988039e6-0cf4-4c79-868b-2b64348c0152",
   "metadata": {},
   "outputs": [
    {
     "data": {
      "text/plain": [
       "[0,\n",
       " 1,\n",
       " 2,\n",
       " 3,\n",
       " 4,\n",
       " 5,\n",
       " 6,\n",
       " 7,\n",
       " 8,\n",
       " 9,\n",
       " 10,\n",
       " 11,\n",
       " 12,\n",
       " 13,\n",
       " 14,\n",
       " 15,\n",
       " 16,\n",
       " 17,\n",
       " 18,\n",
       " 19,\n",
       " 20,\n",
       " 21,\n",
       " 22,\n",
       " 23,\n",
       " 24,\n",
       " 25,\n",
       " 26,\n",
       " 27,\n",
       " 28,\n",
       " 29,\n",
       " 30,\n",
       " 31,\n",
       " 32,\n",
       " 33,\n",
       " 34,\n",
       " 35,\n",
       " 36,\n",
       " 37,\n",
       " 38,\n",
       " 39,\n",
       " 40,\n",
       " 41,\n",
       " 42,\n",
       " 43,\n",
       " 44,\n",
       " 45,\n",
       " 46,\n",
       " 47,\n",
       " 48,\n",
       " 49,\n",
       " 50,\n",
       " 51,\n",
       " 52,\n",
       " 53,\n",
       " 54,\n",
       " 55,\n",
       " 56,\n",
       " 57,\n",
       " 58,\n",
       " 59,\n",
       " 60,\n",
       " 61,\n",
       " 62,\n",
       " 63,\n",
       " 64,\n",
       " 65,\n",
       " 66,\n",
       " 67,\n",
       " 68,\n",
       " 69,\n",
       " 70,\n",
       " 71,\n",
       " 72,\n",
       " 73,\n",
       " 74,\n",
       " 75,\n",
       " 76,\n",
       " 77,\n",
       " 78,\n",
       " 79,\n",
       " 80,\n",
       " 81,\n",
       " 82,\n",
       " 83,\n",
       " 84,\n",
       " 85,\n",
       " 86,\n",
       " 87,\n",
       " 88,\n",
       " 89,\n",
       " 90,\n",
       " 91,\n",
       " 92,\n",
       " 93,\n",
       " 94,\n",
       " 95,\n",
       " 96,\n",
       " 97,\n",
       " 98,\n",
       " 99]"
      ]
     },
     "execution_count": 4,
     "metadata": {},
     "output_type": "execute_result"
    }
   ],
   "source": [
    "list(range(0,100))"
   ]
  },
  {
   "cell_type": "code",
   "execution_count": 16,
   "id": "1c1ffe4c-458c-4832-8564-a152e68b7b02",
   "metadata": {},
   "outputs": [
    {
     "name": "stdout",
     "output_type": "stream",
     "text": [
      " whose cube is divisible by 4 using for loop: [0]\n"
     ]
    }
   ],
   "source": [
    "no=[]\n",
    "for i in range(0,100):\n",
    "    cube=i**3\n",
    "    if cube/4==0:\n",
    "        no.append(i)\n",
    "        \n",
    "print(f\" whose cube is divisible by 4 using for loop: {no}\")\n",
    "    \n",
    "    "
   ]
  },
  {
   "cell_type": "code",
   "execution_count": 1,
   "id": "81b663f5-8bf3-4c16-beb5-f15dbef61c64",
   "metadata": {},
   "outputs": [
    {
     "name": "stdout",
     "output_type": "stream",
     "text": [
      "[]\n"
     ]
    }
   ],
   "source": [
    "no=[]\n",
    "i=1\n",
    "while i<=100:\n",
    "    cube = i**3\n",
    "    if cube/4==0:\n",
    "        no.append(i)\n",
    "    i+=1\n",
    "print(no)\n",
    "\n",
    "    "
   ]
  },
  {
   "cell_type": "code",
   "execution_count": 11,
   "id": "e9a13283-2424-4ffe-b877-4f7cbf303fdf",
   "metadata": {},
   "outputs": [
    {
     "name": "stdout",
     "output_type": "stream",
     "text": [
      "number of vowels: 0\n"
     ]
    }
   ],
   "source": [
    "string= ['I want to become a data scientist']\n",
    "vowels = 'aieou'\n",
    "count = 0\n",
    "for char in string:\n",
    "    if char in vowels:\n",
    "        count+=1\n",
    "print('number of vowels:',count)"
   ]
  },
  {
   "cell_type": "code",
   "execution_count": 15,
   "id": "45281579-adeb-40ad-8f7c-ca45f7294341",
   "metadata": {},
   "outputs": [
    {
     "name": "stdin",
     "output_type": "stream",
     "text": [
      "enter the amount consumed 310\n"
     ]
    },
    {
     "name": "stdout",
     "output_type": "stream",
     "text": [
      "total electricity 2250.0\n"
     ]
    }
   ],
   "source": [
    "unit= int(input('enter the amount consumed'))\n",
    "\n",
    "if unit<=100:\n",
    "    bill = unit*4.5\n",
    "elif unit<=200:\n",
    "    bill =100*4.5+ (unit-100)*6\n",
    "elif unit<=300:\n",
    "    bill= 200*4.5+(unit-200)*10\n",
    "else:\n",
    "    bill = 100*4.5+100*6+100*10+(unit-300)*20\n",
    "print('total electricity',bill)"
   ]
  },
  {
   "cell_type": "code",
   "execution_count": 14,
   "id": "8888ffbc-3864-4348-97a3-e42013be1691",
   "metadata": {},
   "outputs": [
    {
     "name": "stdin",
     "output_type": "stream",
     "text": [
      "enter the amount consumed 310\n"
     ]
    },
    {
     "name": "stdout",
     "output_type": "stream",
     "text": [
      "total electricity -3950.0\n"
     ]
    }
   ],
   "source": [
    "unit= int(input('enter the amount consumed'))\n",
    "\n",
    "if unit<=100:\n",
    "    bill = unit*4.5\n",
    "elif unit<=100:\n",
    "    bill =100*6\n",
    "elif unit<=100:\n",
    "    bill= 100*10\n",
    "else:\n",
    "    bill = 100*4.5+100*6+100*10-300*20\n",
    "print('total electricity',bill)"
   ]
  },
  {
   "cell_type": "code",
   "execution_count": null,
   "id": "7809c77e-a8db-46f1-b275-7125343e1aaf",
   "metadata": {},
   "outputs": [],
   "source": []
  }
 ],
 "metadata": {
  "kernelspec": {
   "display_name": "Python 3 (ipykernel)",
   "language": "python",
   "name": "python3"
  },
  "language_info": {
   "codemirror_mode": {
    "name": "ipython",
    "version": 3
   },
   "file_extension": ".py",
   "mimetype": "text/x-python",
   "name": "python",
   "nbconvert_exporter": "python",
   "pygments_lexer": "ipython3",
   "version": "3.10.8"
  }
 },
 "nbformat": 4,
 "nbformat_minor": 5
}
